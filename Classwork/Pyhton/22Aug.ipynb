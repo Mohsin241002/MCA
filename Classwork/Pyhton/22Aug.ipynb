{
 "cells": [
  {
   "cell_type": "markdown",
   "metadata": {},
   "source": [
    "(1) Write a Python program that executes an operation on a list and handles an ‘IndexError’ exception if the index is out of range."
   ]
  },
  {
   "cell_type": "code",
   "execution_count": 1,
   "metadata": {},
   "outputs": [
    {
     "name": "stdout",
     "output_type": "stream",
     "text": [
      "Error: Index 5 is out of range for the list.\n"
     ]
    }
   ],
   "source": [
    "def get_element_from_list(lst, index):\n",
    "    try:\n",
    "        # Attempt to access the element at the given index\n",
    "        element = lst[index]\n",
    "        print(f\"Element at index {index}: {element}\")\n",
    "    except IndexError:\n",
    "        # Handle the case where the index is out of range\n",
    "        print(f\"Error: Index {index} is out of range for the list.\")\n",
    "\n",
    "# Example usage\n",
    "my_list = [10, 20, 30, 40, 50]\n",
    "index_to_access = 5  # This index is out of range for the given list\n",
    "\n",
    "get_element_from_list(my_list, index_to_access)\n"
   ]
  },
  {
   "cell_type": "markdown",
   "metadata": {},
   "source": [
    "(2) Write a program that divides two numbers provided by the user. The program should handle the following exceptions:\n",
    "\n",
    "(a) a ‘ValueError; if the user does not enter a number.\n",
    "\n",
    "(b) ‘ZeroDivisionError’ if the user attempts to divide by zero.\n",
    "\n",
    "(c) An unexpected exception using a generic Exception handler."
   ]
  },
  {
   "cell_type": "code",
   "execution_count": 2,
   "metadata": {},
   "outputs": [
    {
     "name": "stdout",
     "output_type": "stream",
     "text": [
      "The result of 54.0 divided by 89.0 is 0.6067415730337079\n"
     ]
    }
   ],
   "source": [
    "def divide_numbers():\n",
    "    try:\n",
    "        num1 = float(input(\"Enter the first number: \"))\n",
    "        num2 = float(input(\"Enter the second number: \"))\n",
    "\n",
    "        result = num1 / num2\n",
    "        print(f\"The result of {num1} divided by {num2} is {result}\")\n",
    "\n",
    "    except ValueError:\n",
    "        print(\"Error: Please enter a valid number.\")\n",
    "    \n",
    "    except ZeroDivisionError:\n",
    "        print(\"Error: Division by zero is not allowed.\")\n",
    "    \n",
    "    except Exception as e:\n",
    "        print(f\"An unexpected error occurred: {e}\")\n",
    "        \n",
    "divide_numbers()\n"
   ]
  },
  {
   "cell_type": "markdown",
   "metadata": {},
   "source": [
    "(3) Write a function get_integer_input(prompt) that prompts the user to enter an integer. If the user enters anything other than an integer \n",
    "(e.g., a string like ‘five’), the function should catch the ValueError and prompt the user again until a valid integer is entered. The function should return a valid integer."
   ]
  },
  {
   "cell_type": "code",
   "execution_count": 4,
   "metadata": {},
   "outputs": [
    {
     "name": "stdout",
     "output_type": "stream",
     "text": [
      "Error: ''84.365'' is not a valid integer. Please enter a number.\n",
      "Error: ''89.65'' is not a valid integer. Please enter a number.\n",
      "You entered the integer: 54\n"
     ]
    }
   ],
   "source": [
    "def get_integer_input(prompt):\n",
    "    while True:\n",
    "        try:\n",
    "            # Prompt the user to enter an integer\n",
    "            user_input = int(input(prompt))\n",
    "            return user_input\n",
    "        except ValueError as e:\n",
    "            # Handle the ValueError if the input is not an integer\n",
    "            print(f\"Error: '{e.args[0].split(':')[1].strip()}' is not a valid integer. Please enter a number.\")\n",
    "\n",
    "# Example usage\n",
    "result = get_integer_input(\"Please enter an integer: \")\n",
    "print(f\"You entered the integer: {result}\")\n"
   ]
  },
  {
   "cell_type": "markdown",
   "metadata": {},
   "source": [
    "(4) Write a function validate_user_input(str) that takes a string as input and checks the following:\n",
    "\n",
    "(a) The string must be at least 8 characters long.\n",
    "\n",
    "(b) The string must contain at least one digit.\n",
    "\n",
    "(c) The string must contain at least one uppercase letter.\n",
    "\n",
    "If any of these conditions are not met, the function should raise a custom exception InvalidInputError with a message specifying which condition failed."
   ]
  },
  {
   "cell_type": "code",
   "execution_count": 5,
   "metadata": {},
   "outputs": [
    {
     "name": "stdout",
     "output_type": "stream",
     "text": [
      "The input is valid.\n"
     ]
    }
   ],
   "source": [
    "class InvalidInputError(Exception):\n",
    "    \"\"\"Custom exception for invalid user input.\"\"\"\n",
    "    pass\n",
    "\n",
    "def validate_user_input(input_str):\n",
    "    if len(input_str) < 8:\n",
    "        raise InvalidInputError(\"The string must be at least 8 characters long.\")\n",
    "    \n",
    "    if not any(char.isdigit() for char in input_str):\n",
    "        raise InvalidInputError(\"The string must contain at least one digit.\")\n",
    "    \n",
    "    if not any(char.isupper() for char in input_str):\n",
    "        raise InvalidInputError(\"The string must contain at least one uppercase letter.\")\n",
    "    \n",
    "    print(\"The input is valid.\")\n",
    "\n",
    "# Example usage\n",
    "try:\n",
    "    user_input = input(\"Enter a string to validate: \")\n",
    "    validate_user_input(user_input)\n",
    "except InvalidInputError as e:\n",
    "    print(f\"Validation failed: {e}\")\n"
   ]
  },
  {
   "cell_type": "markdown",
   "metadata": {},
   "source": [
    "(5) Write a Python program for an interactive calculator that:\n",
    "\n",
    "(a) Continuously prompts the user to enter a simple arithmetic formula con-\n",
    "sisting of a number, an operator (+ or -), and another number, all sepa-\n",
    "rated by spaces (e.g., \"3 + 5\").\n",
    "\n",
    "(b) Splits the user input using str.split() and checks if the input is valid. The\n",
    "input is valid if:\n",
    "(i) It consists of exactly three elements.\n",
    "\n",
    "(ii) The first and third elements can be converted to floating-point num-\n",
    "bers.\n",
    "\n",
    "(iii) The second element is either ’+’ or ’-’.\n",
    "(c) If the input is invalid, the program should raise a FormulaError, a custom\n",
    "exception, with an appropriate error message.\n",
    "(d) If the input is valid, the program should perform the calculation and\n",
    "print the result.\n",
    "(e) The program should keep running until the user types \"quit\"."
   ]
  },
  {
   "cell_type": "code",
   "execution_count": 6,
   "metadata": {},
   "outputs": [
    {
     "name": "stdout",
     "output_type": "stream",
     "text": [
      "Invalid formula: The formula must consist of exactly three parts: number operator number\n",
      "Invalid formula: The formula must consist of exactly three parts: number operator number\n",
      "Result: 119.0\n",
      "Invalid formula: The formula must consist of exactly three parts: number operator number\n",
      "Result: 141.0\n",
      "Exiting calculator.\n"
     ]
    }
   ],
   "source": [
    "class FormulaError(Exception):\n",
    "    \"\"\"Custom exception for invalid arithmetic formulas.\"\"\"\n",
    "    pass\n",
    "\n",
    "def evaluate_formula(formula):\n",
    "    try:\n",
    "        # Split the formula into components\n",
    "        parts = formula.split()\n",
    "\n",
    "        # Check if the formula has exactly three parts\n",
    "        if len(parts) != 3:\n",
    "            raise FormulaError(\"The formula must consist of exactly three parts: number operator number\")\n",
    "\n",
    "        num1, operator, num2 = parts\n",
    "\n",
    "        # Convert the first and third parts to floats\n",
    "        try:\n",
    "            num1 = float(num1)\n",
    "            num2 = float(num2)\n",
    "        except ValueError:\n",
    "            raise FormulaError(\"The first and third elements must be numbers\")\n",
    "\n",
    "        # Check if the operator is valid\n",
    "        if operator not in ('+', '-'):\n",
    "            raise FormulaError(\"The operator must be either '+' or '-'\")\n",
    "\n",
    "        # Perform the calculation\n",
    "        if operator == '+':\n",
    "            result = num1 + num2\n",
    "        else:  # operator == '-'\n",
    "            result = num1 - num2\n",
    "\n",
    "        return result\n",
    "\n",
    "    except FormulaError as e:\n",
    "        print(f\"Invalid formula: {e}\")\n",
    "        return None\n",
    "\n",
    "def interactive_calculator():\n",
    "    while True:\n",
    "        user_input = input(\"Enter a simple arithmetic formula (or type 'quit' to exit): \")\n",
    "\n",
    "        if user_input.lower() == 'quit':\n",
    "            print(\"Exiting calculator.\")\n",
    "            break\n",
    "\n",
    "        result = evaluate_formula(user_input)\n",
    "\n",
    "        if result is not None:\n",
    "            print(f\"Result: {result}\")\n",
    "\n",
    "# Example usage\n",
    "interactive_calculator()\n"
   ]
  },
  {
   "cell_type": "markdown",
   "metadata": {},
   "source": [
    "(6) Write a Python program that matches a string that has the letter ‘a’ followed\n",
    "by zero or more b’s."
   ]
  },
  {
   "cell_type": "code",
   "execution_count": 7,
   "metadata": {},
   "outputs": [
    {
     "name": "stdout",
     "output_type": "stream",
     "text": [
      "Match found!\n",
      "Match found!\n",
      "Match found!\n",
      "No match found.\n",
      "No match found.\n"
     ]
    }
   ],
   "source": [
    "import re\n",
    "\n",
    "def match_ab(string):\n",
    "    # Regular expression pattern for 'a' followed by zero or more 'b's\n",
    "    pattern = r'^ab*$'\n",
    "    \n",
    "    # Use re.match to check if the entire string matches the pattern\n",
    "    if re.match(pattern, string):\n",
    "        return \"Match found!\"\n",
    "    else:\n",
    "        return \"No match found.\"\n",
    "\n",
    "# Example usage\n",
    "print(match_ab(\"a\"))       # Match found!\n",
    "print(match_ab(\"ab\"))      # Match found!\n",
    "print(match_ab(\"abb\"))     # Match found!\n",
    "print(match_ab(\"ac\"))      # No match found\n",
    "print(match_ab(\"aabb\"))    # No match found\n"
   ]
  },
  {
   "cell_type": "markdown",
   "metadata": {},
   "source": [
    "(7) Write a Python program to find the sequences of one upper case letter followed\n",
    "by lower case letters."
   ]
  },
  {
   "cell_type": "code",
   "execution_count": 8,
   "metadata": {},
   "outputs": [
    {
     "name": "stdout",
     "output_type": "stream",
     "text": [
      "Found sequences: ['Hello', 'World', 'This', 'Test']\n"
     ]
    }
   ],
   "source": [
    "import re\n",
    "\n",
    "def find_uppercase_sequences(string):\n",
    "    # Regular expression pattern for an uppercase letter followed by lowercase letters\n",
    "    pattern = r'[A-Z][a-z]+'\n",
    "    \n",
    "    # Use re.findall to find all matching sequences in the string\n",
    "    matches = re.findall(pattern, string)\n",
    "    \n",
    "    return matches\n",
    "\n",
    "# Example usage\n",
    "input_string = \"Hello World This is A Test\"\n",
    "sequences = find_uppercase_sequences(input_string)\n",
    "print(\"Found sequences:\", sequences)\n"
   ]
  },
  {
   "cell_type": "markdown",
   "metadata": {},
   "source": [
    "(8) Write a Python program that matches a word at the beginning of a string."
   ]
  },
  {
   "cell_type": "code",
   "execution_count": 9,
   "metadata": {},
   "outputs": [
    {
     "name": "stdout",
     "output_type": "stream",
     "text": [
      "Match found: 'Hello'\n"
     ]
    }
   ],
   "source": [
    "import re\n",
    "\n",
    "def match_word_at_start(string):\n",
    "    # Regular expression pattern to match a word at the beginning of the string\n",
    "    pattern = r'^\\w+'\n",
    "    \n",
    "    # Use re.match to check if the string starts with a word\n",
    "    match = re.match(pattern, string)\n",
    "    \n",
    "    if match:\n",
    "        return f\"Match found: '{match.group()}'\"\n",
    "    else:\n",
    "        return \"No match found.\"\n",
    "\n",
    "input_string = \"Hello World!\"\n",
    "result = match_word_at_start(input_string)\n",
    "print(result)\n"
   ]
  },
  {
   "cell_type": "markdown",
   "metadata": {},
   "source": [
    "(9) Write a function validate_email(email) that checks if a given email address\n",
    "is valid using regular expressions. A valid email should follow this format:\n",
    "\n",
    "(a) It should start with one or more alphanumeric characters or underscores.\n",
    "\n",
    "(b) It should contain exactly one ’@’ symbol.\n",
    "\n",
    "(c) It should then contain one or more alphanumeric characters.\n",
    "\n",
    "(d) It should end with a valid domain name (e.g., .com, .org, .edu).\n",
    "\n",
    "If the email is not valid, raise a custom InvalidEmailError exception with an\n",
    "appropriate error message."
   ]
  },
  {
   "cell_type": "code",
   "execution_count": 10,
   "metadata": {},
   "outputs": [
    {
     "name": "stdout",
     "output_type": "stream",
     "text": [
      "'test_user@example.com' is a valid email address.\n",
      "'invalid-email.com' is not a valid email address.\n"
     ]
    }
   ],
   "source": [
    "import re\n",
    "\n",
    "class InvalidEmailError(Exception):\n",
    "    \"\"\"Custom exception for invalid email addresses.\"\"\"\n",
    "    pass\n",
    "\n",
    "def validate_email(email):\n",
    "    # Regular expression pattern for validating an email address\n",
    "    pattern = r'^[a-zA-Z0-9_]+@[a-zA-Z0-9]+\\.[a-zA-Z]{2,}$'\n",
    "    \n",
    "    # Use re.match to check if the email matches the pattern\n",
    "    if not re.match(pattern, email):\n",
    "        raise InvalidEmailError(f\"'{email}' is not a valid email address.\")\n",
    "    \n",
    "    return f\"'{email}' is a valid email address.\"\n",
    "\n",
    "try:\n",
    "    email = \"test_user@example.com\"\n",
    "    print(validate_email(email))\n",
    "    \n",
    "    invalid_email = \"invalid-email.com\"\n",
    "    print(validate_email(invalid_email))  # This will raise InvalidEmailError\n",
    "except InvalidEmailError as e:\n",
    "    print(e)"
   ]
  },
  {
   "cell_type": "markdown",
   "metadata": {},
   "source": [
    "(10) Write a function that checks if a password is strong using regular expressions.\n",
    "A strong password should:\n",
    "\n",
    "(a) Be at least 8 characters long.\n",
    "\n",
    "(b) Contain both uppercase and lowercase letters.\n",
    "\n",
    "(c) Include at least one digit.\n",
    "\n",
    "(d) Have at least one special character (e.g., @, #, $).\n",
    "\n",
    "If the password is not strong enough, raise a custom ‘WeakPasswordError’\n",
    "exception with a message indicating which criteria were not met."
   ]
  },
  {
   "cell_type": "code",
   "execution_count": 11,
   "metadata": {},
   "outputs": [
    {
     "name": "stdout",
     "output_type": "stream",
     "text": [
      "Password is strong.\n",
      "Password must contain at least one uppercase letter.\n"
     ]
    }
   ],
   "source": [
    "import re\n",
    "\n",
    "class WeakPasswordError(Exception):\n",
    "    \"\"\"Custom exception for weak passwords.\"\"\"\n",
    "    pass\n",
    "\n",
    "def check_strong_password(password):\n",
    "    # Criteria for a strong password\n",
    "    if len(password) < 8:\n",
    "        raise WeakPasswordError(\"Password must be at least 8 characters long.\")\n",
    "    \n",
    "    if not re.search(r'[A-Z]', password):\n",
    "        raise WeakPasswordError(\"Password must contain at least one uppercase letter.\")\n",
    "    \n",
    "    if not re.search(r'[a-z]', password):\n",
    "        raise WeakPasswordError(\"Password must contain at least one lowercase letter.\")\n",
    "    \n",
    "    if not re.search(r'[0-9]', password):\n",
    "        raise WeakPasswordError(\"Password must contain at least one digit.\")\n",
    "    \n",
    "    if not re.search(r'[!@#$%^&*(),.?\":{}|<>]', password):\n",
    "        raise WeakPasswordError(\"Password must contain at least one special character.\")\n",
    "    \n",
    "    return \"Password is strong.\"\n",
    "\n",
    "# Example usage\n",
    "try:\n",
    "    password = \"StrongPass123!\"\n",
    "    print(check_strong_password(password))\n",
    "    \n",
    "    weak_password = \"weakpass\"\n",
    "    print(check_strong_password(weak_password))  # This will raise WeakPasswordError\n",
    "except WeakPasswordError as e:\n",
    "    print(e)\n"
   ]
  },
  {
   "cell_type": "markdown",
   "metadata": {},
   "source": [
    "(11) Write a NumPy program to test whether none of the elements of a given array\n",
    "are zero."
   ]
  },
  {
   "cell_type": "code",
   "execution_count": 12,
   "metadata": {},
   "outputs": [
    {
     "name": "stdout",
     "output_type": "stream",
     "text": [
      "True\n"
     ]
    }
   ],
   "source": [
    "import numpy as np\n",
    "\n",
    "array = np.array([1, 2, 3, 4, 5])\n",
    "\n",
    "result = np.all(array != 0)\n",
    "\n",
    "print(result)"
   ]
  },
  {
   "cell_type": "markdown",
   "metadata": {},
   "source": [
    "(12) Write a NumPy program to create a 10x10 matrix, in which the elements on\n",
    "the borders will be equal to 1, and inside 0."
   ]
  },
  {
   "cell_type": "code",
   "execution_count": 13,
   "metadata": {},
   "outputs": [
    {
     "name": "stdout",
     "output_type": "stream",
     "text": [
      "[[1 1 1 1 1 1 1 1 1 1]\n",
      " [1 0 0 0 0 0 0 0 0 1]\n",
      " [1 0 0 0 0 0 0 0 0 1]\n",
      " [1 0 0 0 0 0 0 0 0 1]\n",
      " [1 0 0 0 0 0 0 0 0 1]\n",
      " [1 0 0 0 0 0 0 0 0 1]\n",
      " [1 0 0 0 0 0 0 0 0 1]\n",
      " [1 0 0 0 0 0 0 0 0 1]\n",
      " [1 0 0 0 0 0 0 0 0 1]\n",
      " [1 1 1 1 1 1 1 1 1 1]]\n"
     ]
    }
   ],
   "source": [
    "import numpy as np\n",
    "\n",
    "# Create a 10x10 matrix filled with zeros\n",
    "matrix = np.zeros((10, 10), dtype=int)\n",
    "\n",
    "# Set the border elements to 1\n",
    "matrix[0, :] = 1          # Top border\n",
    "matrix[-1, :] = 1         # Bottom border\n",
    "matrix[:, 0] = 1          # Left border\n",
    "matrix[:, -1] = 1         # Right border\n",
    "\n",
    "print(matrix)"
   ]
  },
  {
   "cell_type": "markdown",
   "metadata": {},
   "source": [
    "(13) Write a NumPy program to calculate the absolute value element-wise."
   ]
  },
  {
   "cell_type": "code",
   "execution_count": 15,
   "metadata": {},
   "outputs": [
    {
     "name": "stdout",
     "output_type": "stream",
     "text": [
      "Original array:\n",
      "[-10.2 122.2   0.2]\n",
      "Element-wise absolute value:\n",
      "[ 10.2 122.2   0.2]\n"
     ]
    }
   ],
   "source": [
    "import numpy as np\n",
    "\n",
    "arr = np.array([-10.2, 122.2, 0.2])\n",
    "\n",
    "abs_arr = np.abs(arr)\n",
    "\n",
    "print(\"Original array:\")\n",
    "print(arr)\n",
    "print(\"Element-wise absolute value:\")\n",
    "print(abs_arr)"
   ]
  },
  {
   "cell_type": "markdown",
   "metadata": {},
   "source": [
    "(14) Write a NumPy program to compute the inner product of two given vectors."
   ]
  },
  {
   "cell_type": "code",
   "execution_count": 17,
   "metadata": {},
   "outputs": [
    {
     "name": "stdout",
     "output_type": "stream",
     "text": [
      "Inner Product: 32\n"
     ]
    }
   ],
   "source": [
    "import numpy as np\n",
    "\n",
    "# Define two vectors\n",
    "vector1 = np.array([1, 2, 3])\n",
    "vector2 = np.array([4, 5, 6])\n",
    "\n",
    "# Compute the inner product\n",
    "inner_product = np.dot(vector1, vector2)\n",
    "\n",
    "print(\"Inner Product:\", inner_product)\n"
   ]
  },
  {
   "cell_type": "markdown",
   "metadata": {},
   "source": [
    "(15) Write a NumPy program to find the inverse of a given matrix."
   ]
  },
  {
   "cell_type": "code",
   "execution_count": 18,
   "metadata": {},
   "outputs": [
    {
     "name": "stdout",
     "output_type": "stream",
     "text": [
      "Original Matrix:\n",
      "[[1 2 3]\n",
      " [0 1 4]\n",
      " [5 6 0]]\n",
      "\n",
      "Inverse Matrix:\n",
      "[[-24.  18.   5.]\n",
      " [ 20. -15.  -4.]\n",
      " [ -5.   4.   1.]]\n"
     ]
    }
   ],
   "source": [
    "import numpy as np\n",
    "\n",
    "matrix = np.array([[1, 2, 3],\n",
    "                   [0, 1, 4],\n",
    "                   [5, 6, 0]])\n",
    "\n",
    "inverse_matrix = np.linalg.inv(matrix)\n",
    "\n",
    "print(\"Original Matrix:\")\n",
    "print(matrix)\n",
    "print(\"\\nInverse Matrix:\")\n",
    "print(inverse_matrix)\n"
   ]
  },
  {
   "cell_type": "code",
   "execution_count": null,
   "metadata": {},
   "outputs": [],
   "source": []
  }
 ],
 "metadata": {
  "kernelspec": {
   "display_name": "Python 3",
   "language": "python",
   "name": "python3"
  },
  "language_info": {
   "codemirror_mode": {
    "name": "ipython",
    "version": 3
   },
   "file_extension": ".py",
   "mimetype": "text/x-python",
   "name": "python",
   "nbconvert_exporter": "python",
   "pygments_lexer": "ipython3",
   "version": "3.12.4"
  }
 },
 "nbformat": 4,
 "nbformat_minor": 2
}
