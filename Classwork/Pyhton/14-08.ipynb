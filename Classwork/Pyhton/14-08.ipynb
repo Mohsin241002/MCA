{
 "cells": [
  {
   "cell_type": "markdown",
   "metadata": {},
   "source": [
    "A regEx. or regular expression is a sequence of characters that form a search pattern"
   ]
  },
  {
   "cell_type": "code",
   "execution_count": 2,
   "metadata": {},
   "outputs": [
    {
     "name": "stdout",
     "output_type": "stream",
     "text": [
      "['p', 'p']\n"
     ]
    }
   ],
   "source": [
    "import re\n",
    "str1 = \"python programming\"\n",
    "x1 = re.findall('p', str1)\n",
    "print(x1)"
   ]
  },
  {
   "cell_type": "code",
   "execution_count": 3,
   "metadata": {},
   "outputs": [
    {
     "name": "stdout",
     "output_type": "stream",
     "text": [
      "['m', 'm']\n"
     ]
    }
   ],
   "source": [
    "x2 = re.findall('m', str1)\n",
    "print(x2)"
   ]
  },
  {
   "cell_type": "code",
   "execution_count": 5,
   "metadata": {},
   "outputs": [
    {
     "name": "stdout",
     "output_type": "stream",
     "text": [
      "['mm']\n"
     ]
    }
   ],
   "source": [
    "x3 = re.findall('mm', str1)\n",
    "print(x3)"
   ]
  },
  {
   "cell_type": "code",
   "execution_count": 7,
   "metadata": {},
   "outputs": [
    {
     "name": "stdout",
     "output_type": "stream",
     "text": [
      "['python']\n"
     ]
    }
   ],
   "source": [
    "x6 = re.findall('python', str1)\n",
    "print(x6)"
   ]
  },
  {
   "cell_type": "code",
   "execution_count": 12,
   "metadata": {},
   "outputs": [
    {
     "name": "stdout",
     "output_type": "stream",
     "text": [
      "<re.Match object; span=(0, 1), match='h'>\n",
      "0\n"
     ]
    }
   ],
   "source": [
    "str2 = \"hello world\"\n",
    "y1 = re.search('h', str2)\n",
    "print(y1)\n",
    "print(y1.start())"
   ]
  },
  {
   "cell_type": "code",
   "execution_count": 14,
   "metadata": {},
   "outputs": [
    {
     "name": "stdout",
     "output_type": "stream",
     "text": [
      "<re.Match object; span=(4, 5), match='o'>\n",
      "4\n"
     ]
    }
   ],
   "source": [
    "str2 = \"hello world\"\n",
    "y1 = re.search('o', str2)\n",
    "print(y1)\n",
    "print(y1.start())"
   ]
  },
  {
   "cell_type": "code",
   "execution_count": 16,
   "metadata": {},
   "outputs": [
    {
     "name": "stdout",
     "output_type": "stream",
     "text": [
      "<re.Match object; span=(2, 4), match='ll'>\n",
      "2\n"
     ]
    }
   ],
   "source": [
    "str2 = \"hello world\"\n",
    "y1 = re.search('ll', str2)\n",
    "print(y1)\n",
    "print(y1.start())"
   ]
  },
  {
   "cell_type": "code",
   "execution_count": 18,
   "metadata": {},
   "outputs": [
    {
     "name": "stdout",
     "output_type": "stream",
     "text": [
      "<re.Match object; span=(0, 5), match='hello'>\n"
     ]
    }
   ],
   "source": [
    "str2 = \"hello world\"\n",
    "y5 = re.search('hello', str2)\n",
    "print(y5)"
   ]
  },
  {
   "cell_type": "markdown",
   "metadata": {},
   "source": [
    "Using span to find range"
   ]
  },
  {
   "cell_type": "code",
   "execution_count": 21,
   "metadata": {},
   "outputs": [
    {
     "name": "stdout",
     "output_type": "stream",
     "text": [
      "<re.Match object; span=(0, 5), match='Hello'>\n",
      "(0, 5)\n"
     ]
    }
   ],
   "source": [
    "str3 = \"Hello World\"\n",
    "y6= re.search('Hello', str3)\n",
    "print(y6)\n",
    "print(y6.span())"
   ]
  },
  {
   "cell_type": "markdown",
   "metadata": {},
   "source": [
    "Using split method\""
   ]
  },
  {
   "cell_type": "code",
   "execution_count": null,
   "metadata": {},
   "outputs": [],
   "source": []
  }
 ],
 "metadata": {
  "kernelspec": {
   "display_name": "Python 3",
   "language": "python",
   "name": "python3"
  },
  "language_info": {
   "codemirror_mode": {
    "name": "ipython",
    "version": 3
   },
   "file_extension": ".py",
   "mimetype": "text/x-python",
   "name": "python",
   "nbconvert_exporter": "python",
   "pygments_lexer": "ipython3",
   "version": "3.12.4"
  }
 },
 "nbformat": 4,
 "nbformat_minor": 2
}
