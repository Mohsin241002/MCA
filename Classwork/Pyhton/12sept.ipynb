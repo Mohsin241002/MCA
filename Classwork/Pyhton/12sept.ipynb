{
 "cells": [
  {
   "cell_type": "code",
   "execution_count": 1,
   "metadata": {},
   "outputs": [],
   "source": [
    "import pandas as pd\n",
    "import numpy as np"
   ]
  },
  {
   "cell_type": "markdown",
   "metadata": {},
   "source": [
    "(1) Write a program to create a Pandas Series having 20 random numbers in the \n",
    "range of 1 and 50. "
   ]
  },
  {
   "cell_type": "code",
   "execution_count": 2,
   "metadata": {},
   "outputs": [
    {
     "name": "stdout",
     "output_type": "stream",
     "text": [
      "Random Series:\n",
      "0     3\n",
      "1    44\n",
      "2    16\n",
      "3    40\n",
      "4    33\n",
      "5    35\n",
      "6    31\n",
      "7    23\n",
      "8    17\n",
      "9    26\n",
      "dtype: int32\n"
     ]
    }
   ],
   "source": [
    "random_series = pd.Series(np.random.randint(1, 51, 10))\n",
    "\n",
    "print(\"Random Series:\")\n",
    "print(random_series)"
   ]
  },
  {
   "cell_type": "markdown",
   "metadata": {},
   "source": [
    "Given the following Pandas Series S1 and S2, write a Python program to find its product (multiplication)."
   ]
  },
  {
   "cell_type": "code",
   "execution_count": 3,
   "metadata": {},
   "outputs": [
    {
     "name": "stdout",
     "output_type": "stream",
     "text": [
      "\n",
      "S1:\n",
      "A    10\n",
      "B    20\n",
      "C    30\n",
      "D    40\n",
      "dtype: int64\n",
      "\n",
      "S2:\n",
      "A    5\n",
      "B    4\n",
      "C    6\n",
      "D    8\n",
      "dtype: int64\n",
      "\n",
      "Product of S1 and S2:\n",
      "A     50\n",
      "B     80\n",
      "C    180\n",
      "D    320\n",
      "dtype: int64\n"
     ]
    }
   ],
   "source": [
    "S1 = pd.Series([10, 20, 30, 40], index=['A', 'B', 'C', 'D'])\n",
    "S2 = pd.Series([5, 4, 6, 8], index=['A', 'B', 'C', 'D'])\n",
    "\n",
    "# Calculate the product of S1 and S2\n",
    "product = S1 * S2\n",
    "\n",
    "print(\"\\nS1:\")\n",
    "print(S1)\n",
    "print(\"\\nS2:\")\n",
    "print(S2)\n",
    "print(\"\\nProduct of S1 and S2:\")\n",
    "print(product)"
   ]
  },
  {
   "cell_type": "markdown",
   "metadata": {},
   "source": [
    "Write a program in Pandas to create this series."
   ]
  },
  {
   "cell_type": "code",
   "execution_count": 4,
   "metadata": {},
   "outputs": [
    {
     "name": "stdout",
     "output_type": "stream",
     "text": [
      "\n",
      "3. Subject Series:\n",
      "ENGLISH    75\n",
      "HINDI      78\n",
      "MATHS      82\n",
      "SCIENCE    86\n",
      "dtype: int64\n"
     ]
    }
   ],
   "source": [
    "subjects = ['ENGLISH', 'HINDI', 'MATHS', 'SCIENCE']\n",
    "marks = [75, 78, 82, 86]\n",
    "\n",
    "subject_series = pd.Series(marks, index=subjects)\n",
    "\n",
    "print(\"\\n3. Subject Series:\")\n",
    "print(subject_series)"
   ]
  },
  {
   "cell_type": "markdown",
   "metadata": {},
   "source": [
    "From the given data (Company name, and profit mentioned in crores), create \n",
    "a Series object using Pandas and write a command which will display the \n",
    "name of the company having profit > 200 crores."
   ]
  },
  {
   "cell_type": "code",
   "execution_count": 5,
   "metadata": {},
   "outputs": [
    {
     "name": "stdout",
     "output_type": "stream",
     "text": [
      "Companies with profit >= 200 crores:\n",
      "TCS          350\n",
      "Reliance     800\n",
      "L & T        300\n",
      "Capgemini    400\n",
      "Accenture    200\n",
      "DNV          250\n",
      "dtype: int64\n"
     ]
    }
   ],
   "source": [
    "def company_profits():\n",
    "    # Create a Series object with company profits\n",
    "    companies = ['TCS', 'Reliance', 'L & T', 'Wipro', 'Capgemini', 'Accenture', 'DNV', 'KPMG']\n",
    "    profits = [350, 800, 300, 150, 400, 200, 250, 150]\n",
    "    company_series = pd.Series(profits, index=companies)\n",
    "    \n",
    "    # Display companies with profit >= 200 crores\n",
    "    high_profit_companies = company_series[company_series >= 200]\n",
    "    print(\"Companies with profit >= 200 crores:\")\n",
    "    print(high_profit_companies)\n",
    "\n",
    "company_profits()"
   ]
  },
  {
   "cell_type": "markdown",
   "metadata": {},
   "source": [
    "The following tables illustrate the contribution given by different organizations for charity. Your institution has decided to donate more contribution by \n",
    "each section, so donations have been doubled. Write code to create a Pandas \n",
    "Series object that stores the updated contribution amount as the values and \n",
    "section name as indexes with data types that can incorporate decimal values. "
   ]
  },
  {
   "cell_type": "code",
   "execution_count": 6,
   "metadata": {},
   "outputs": [
    {
     "name": "stdout",
     "output_type": "stream",
     "text": [
      "\n",
      "Updated charity contributions (doubled):\n",
      "Organization 1    57600.0\n",
      "Organization 2    77400.0\n",
      "Organization 3    35600.0\n",
      "Organization 4    93000.0\n",
      "Organization 5    75000.0\n",
      "dtype: float64\n"
     ]
    }
   ],
   "source": [
    "def charity_contributions():\n",
    "    # Create a Series object with doubled charity contributions\n",
    "    organizations = ['Organization 1', 'Organization 2', 'Organization 3', 'Organization 4', 'Organization 5']\n",
    "    amounts = [28800, 38700, 17800, 46500, 37500]\n",
    "    doubled_amounts = [amount * 2 for amount in amounts]\n",
    "    \n",
    "    # Create Pandas Series with doubled contributions\n",
    "    contributions_series = pd.Series(doubled_amounts, index=organizations, dtype=float)\n",
    "    \n",
    "    print(\"\\nUpdated charity contributions (doubled):\")\n",
    "    print(contributions_series)\n",
    "\n",
    "charity_contributions()"
   ]
  },
  {
   "cell_type": "markdown",
   "metadata": {},
   "source": [
    "(6) Perform the following, for the given sales data (sales_data.csv attached). \n",
    "\n",
    "(a) Load the CSV file into a pandas DataFrame. \n",
    "\n",
    "(b) Calculate the total revenue for each product by multiplying Units Sold \n",
    "and Unit Price and add a new column Revenue to the DataFrame. \n",
    "\n",
    "(c) Find the average revenue per region by grouping the data by Region and \n",
    "computing the mean of the Revenue column \n",
    "\n",
    "(d) Determine which salesperson had the highest total revenue across all \n",
    "regions and products. Display the salesperson's name and total revenue. \n",
    "\n"
   ]
  },
  {
   "cell_type": "code",
   "execution_count": 7,
   "metadata": {},
   "outputs": [
    {
     "name": "stdout",
     "output_type": "stream",
     "text": [
      "DataFrame with Revenue column:\n",
      "     Product Region Salesperson  Units Sold  Unit Price     Month  Revenue\n",
      "0     Laptop  North        John          30        1000   January    30000\n",
      "1     Laptop  South       Emily          45        1000   January    45000\n",
      "2    Monitor  North     Michael          20         300   January     6000\n",
      "3    Monitor  South       Alice          25         300   January     7500\n",
      "4      Mouse   East         Bob         200          25   January     5000\n",
      "5   Keyboard   West       Susan         150         100   January    15000\n",
      "6     Laptop  North        John          25        1000  February    25000\n",
      "7     Laptop  South       Emily          35        1000  February    35000\n",
      "8    Monitor  North     Michael          15         300  February     4500\n",
      "9    Monitor  South       Alice          30         300  February     9000\n",
      "10     Mouse   East         Bob         250          25  February     6250\n",
      "11  Keyboard   West       Susan         120         100  February    12000\n",
      "\n",
      "Average Revenue per Region:\n",
      "Region\n",
      "East      5625.0\n",
      "North    16375.0\n",
      "South    24125.0\n",
      "West     13500.0\n",
      "Name: Revenue, dtype: float64\n",
      "\n",
      "Salesperson with highest total revenue: Emily\n",
      "Total revenue: $80000.00\n"
     ]
    }
   ],
   "source": [
    "df = pd.read_csv('sales_data.csv')\n",
    "\n",
    "# (b) Calculate the total revenue for each product and add a new column Revenue\n",
    "df['Revenue'] = df['Units Sold'] * df['Unit Price']\n",
    "\n",
    "# (c) Find the average revenue per region\n",
    "avg_revenue_per_region = df.groupby('Region')['Revenue'].mean()\n",
    "\n",
    "# (d) Determine which salesperson had the highest total revenue\n",
    "salesperson_revenue = df.groupby('Salesperson')['Revenue'].sum()\n",
    "top_salesperson = salesperson_revenue.idxmax()\n",
    "top_revenue = salesperson_revenue.max()\n",
    "\n",
    "# Display results\n",
    "print(\"DataFrame with Revenue column:\")\n",
    "print(df)\n",
    "\n",
    "print(\"\\nAverage Revenue per Region:\")\n",
    "print(avg_revenue_per_region)\n",
    "\n",
    "print(f\"\\nSalesperson with highest total revenue: {top_salesperson}\")\n",
    "print(f\"Total revenue: ${top_revenue:.2f}\")"
   ]
  },
  {
   "cell_type": "markdown",
   "metadata": {},
   "source": [
    "• Task 1: Employee Attendance Data Analysis \n",
    "(a) Load the Excel file into a pandas DataFrame and display the first \n",
    "5 rows. \n",
    "\n",
    "(b) Calculate the total days present by each employee across all months \n",
    "and add a new column Total Days Present. \n",
    "\n",
    "(c) Determine the department with the lowest average days absent by \n",
    "grouping the data by Department and computing the mean of the Days Absent. \n",
    "\n",
    "(d) Filter the data to display only employees who were present for more \n",
    "than 20 days in any given month. \n",
    "\n"
   ]
  },
  {
   "cell_type": "code",
   "execution_count": 8,
   "metadata": {},
   "outputs": [
    {
     "name": "stdout",
     "output_type": "stream",
     "text": [
      "First 5 rows of the DataFrame:\n",
      "   EmployeeID     Name Department  Days Present  Days Absent    Month\n",
      "0         101     John      Sales            20            2  January\n",
      "1         102    Susan         HR            18            4  January\n",
      "2         103    Emily      Sales            22            0  January\n",
      "3         104  Michael         IT            21            1  January\n",
      "4         105    Alice         HR            19            3  January\n",
      "\n",
      "DataFrame with Total Days Present column:\n",
      "   EmployeeID     Name Department  Days Present  Days Absent     Month  \\\n",
      "0         101     John      Sales            20            2   January   \n",
      "1         102    Susan         HR            18            4   January   \n",
      "2         103    Emily      Sales            22            0   January   \n",
      "3         104  Michael         IT            21            1   January   \n",
      "4         105    Alice         HR            19            3   January   \n",
      "5         101     John      Sales            19            3  February   \n",
      "6         102    Susan         HR            20            2  February   \n",
      "7         103    Emily      Sales            20            2  February   \n",
      "8         104  Michael         IT            21            1  February   \n",
      "9         105    Alice         HR            18            4  February   \n",
      "\n",
      "   Total Days Present  \n",
      "0                  39  \n",
      "1                  38  \n",
      "2                  42  \n",
      "3                  42  \n",
      "4                  37  \n",
      "5                  39  \n",
      "6                  38  \n",
      "7                  42  \n",
      "8                  42  \n",
      "9                  37  \n",
      "\n",
      "Department with lowest average days absent:\n",
      "IT: 1.00 days\n",
      "\n",
      "Employees present for more than 20 days in a month:\n",
      "   EmployeeID     Name Department  Days Present  Days Absent     Month  \\\n",
      "2         103    Emily      Sales            22            0   January   \n",
      "3         104  Michael         IT            21            1   January   \n",
      "8         104  Michael         IT            21            1  February   \n",
      "\n",
      "   Total Days Present  \n",
      "2                  42  \n",
      "3                  42  \n",
      "8                  42  \n"
     ]
    }
   ],
   "source": [
    "df = pd.read_csv('Data_pool.csv')\n",
    "print(\"First 5 rows of the DataFrame:\")\n",
    "print(df.head())\n",
    "\n",
    "# (b) Calculate the total days present by each employee across all months\n",
    "total_days_present = df.groupby('EmployeeID')['Days Present'].sum()\n",
    "df = df.merge(total_days_present.reset_index(name='Total Days Present'), on='EmployeeID')\n",
    "\n",
    "print(\"\\nDataFrame with Total Days Present column:\")\n",
    "print(df)\n",
    "\n",
    "# (c) Determine the department with the lowest average days absent\n",
    "avg_days_absent = df.groupby('Department')['Days Absent'].mean()\n",
    "dept_lowest_absence = avg_days_absent.idxmin()\n",
    "lowest_absence = avg_days_absent.min()\n",
    "\n",
    "print(\"\\nDepartment with lowest average days absent:\")\n",
    "print(f\"{dept_lowest_absence}: {lowest_absence:.2f} days\")\n",
    "\n",
    "# (d) Filter the data to display employees present for more than 20 days in any month\n",
    "employees_high_attendance = df[df['Days Present'] > 20]\n",
    "\n",
    "print(\"\\nEmployees present for more than 20 days in a month:\")\n",
    "print(employees_high_attendance)"
   ]
  },
  {
   "cell_type": "markdown",
   "metadata": {},
   "source": [
    "• Task 2: Product Inventory Management \n",
    "\n",
    "(a) Load the Excel file into a pandas DataFrame. \n",
    "\n",
    "(b) Identify products that need to be reordered by comparing Stock to \n",
    "Reorder Level and flagging them in a new column Needs Reorder.\n",
    "\n",
    "(c) Find the supplier that provides the most number of products by \n",
    "grouping the data by Supplier and counting the number of products \n",
    "they supply. \n",
    "\n",
    "(d) Sort the DataFrame by Inventory Value in descending order and \n",
    "display the top 3 products with the highest inventory value. \n",
    "\n"
   ]
  },
  {
   "cell_type": "code",
   "execution_count": 9,
   "metadata": {},
   "outputs": [
    {
     "name": "stdout",
     "output_type": "stream",
     "text": [
      "Supplier providing the most products: TechSupplies (2 products)\n",
      "\n",
      "Top 3 products with highest inventory value:\n",
      "  Product Name  Inventory Value\n",
      "0       Laptop          60000.0\n",
      "4      Monitor          21000.0\n",
      "1        Mouse           4000.0\n",
      "\n",
      "Full DataFrame:\n",
      "   ProductID Product Name     Category  Stock  Reorder Level   Price  \\\n",
      "0        201       Laptop  Electronics     50             20  1200.0   \n",
      "1        202        Mouse  Electronics    200            100    20.0   \n",
      "2        203        Bread    Groceries    150             50     1.5   \n",
      "3        204         Milk    Groceries    100             30     2.0   \n",
      "4        205      Monitor  Electronics     70             25   300.0   \n",
      "5        206       Cheese    Groceries     50             10     4.5   \n",
      "\n",
      "       Supplier  Needs Reorder  Inventory Value  \n",
      "0  TechSupplies          False          60000.0  \n",
      "1   Accessories          False           4000.0  \n",
      "2     FreshBake          False            225.0  \n",
      "3     DairyLand          False            200.0  \n",
      "4  TechSupplies          False          21000.0  \n",
      "5     DairyLand          False            225.0  \n"
     ]
    }
   ],
   "source": [
    "import io\n",
    "\n",
    "df = pd.read_csv('Data_pool1.csv')\n",
    "\n",
    "# (b) Identify products that need to be reordered\n",
    "df['Needs Reorder'] = df['Stock'] <= df['Reorder Level']\n",
    "\n",
    "# (c) Find the supplier that provides the most number of products\n",
    "supplier_product_count = df['Supplier'].value_counts()\n",
    "top_supplier = supplier_product_count.index[0]\n",
    "top_supplier_count = supplier_product_count.iloc[0]\n",
    "\n",
    "print(f\"Supplier providing the most products: {top_supplier} ({top_supplier_count} products)\")\n",
    "\n",
    "# (d) Sort by Inventory Value and display top 3 products\n",
    "df['Inventory Value'] = df['Stock'] * df['Price']\n",
    "top_3_inventory_value = df.sort_values('Inventory Value', ascending=False).head(3)\n",
    "\n",
    "print(\"\\nTop 3 products with highest inventory value:\")\n",
    "print(top_3_inventory_value[['Product Name', 'Inventory Value']])\n",
    "\n",
    "# Display the entire DataFrame for reference\n",
    "print(\"\\nFull DataFrame:\")\n",
    "print(df)"
   ]
  }
 ],
 "metadata": {
  "kernelspec": {
   "display_name": "Python 3",
   "language": "python",
   "name": "python3"
  },
  "language_info": {
   "codemirror_mode": {
    "name": "ipython",
    "version": 3
   },
   "file_extension": ".py",
   "mimetype": "text/x-python",
   "name": "python",
   "nbconvert_exporter": "python",
   "pygments_lexer": "ipython3",
   "version": "3.12.6"
  }
 },
 "nbformat": 4,
 "nbformat_minor": 2
}
