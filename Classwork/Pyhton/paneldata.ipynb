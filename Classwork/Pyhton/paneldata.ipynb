{
 "cells": [
  {
   "cell_type": "markdown",
   "metadata": {},
   "source": [
    "# **Introduction to Panel Data**"
   ]
  },
  {
   "cell_type": "markdown",
   "metadata": {},
   "source": [
    "### **What is Panel Data?**"
   ]
  },
  {
   "cell_type": "markdown",
   "metadata": {},
   "source": [
    "- **Definition:** Panel data, or longitudinal data, combines cross-sectional and time-series data. It tracks multiple subjects over time, providing insights into changes and trends.\n",
    "\n",
    "- **Key Characteristics:**\n",
    "Multiple subjects (e.g., individuals, firms).\n",
    "Observations recorded at multiple time points.\n",
    "Allows analysis of dynamics over time, accounting for both individual differences and temporal effects.\n"
   ]
  },
  {
   "cell_type": "markdown",
   "metadata": {},
   "source": [
    "#### **1. Time Series Data Example:**\n",
    "Time series data captures changes in a single entity over multiple time periods. In the context of our educational case study:\n",
    "\n",
    "- **Example:** The mathematics scores of a single student (Alice) recorded over three academic years (2021, 2022, 2023)."
   ]
  },
  {
   "cell_type": "markdown",
   "metadata": {},
   "source": [
    "| Year | Student | Score|\n",
    "|------|---------|------|\n",
    "| 2021 | Alice | 75 |\n",
    "| 2022 | Alice | 80 |\n",
    "| 2023 | Alice | 90 |"
   ]
  },
  {
   "cell_type": "markdown",
   "metadata": {},
   "source": [
    "### **2. Cross-Sectional Data Example:**\n",
    "Cross-sectional data captures multiple entities at a single point in time. In the context of our case study:\n",
    "\n",
    "- **Example:** The mathematics scores of multiple students in a single academic year (2021)."
   ]
  },
  {
   "cell_type": "markdown",
   "metadata": {},
   "source": [
    "| Year | Student  | Score |\n",
    "|------|----------|-------|\n",
    "| 2021 | Alice    | 75    |\n",
    "| 2021 | Bob      | 70    |\n",
    "| 2021 | Charlie  | 68    |"
   ]
  },
  {
   "cell_type": "markdown",
   "metadata": {},
   "source": [
    "### **1. Where is Panel Data Used?**\n",
    "- **Applications in Various Fields**\n",
    "Economics: GDP growth, employment statistics.\n",
    "Health Studies: Tracking health outcomes, effectiveness of treatments.\n",
    "Finance: Stock performance, company financials.\n",
    "Social Sciences: Behavioral changes, shifts in public opinion.\n",
    "- **Examples**\n",
    "Education: Monitoring students’ performance over time to evaluate educational interventions.\n",
    "Public Policy: Assessing the impact of legislation on crime rates across various cities over time."
   ]
  },
  {
   "cell_type": "markdown",
   "metadata": {},
   "source": [
    "### **2. Setting Up the Environment**\n",
    "Installing Required Libraries\n",
    "\n",
    " - Make sure to install necessary libraries:"
   ]
  },
  {
   "cell_type": "code",
   "execution_count": null,
   "metadata": {
    "vscode": {
     "languageId": "powershell"
    }
   },
   "outputs": [],
   "source": [
    "pip install pandas matplotlib seaborn"
   ]
  },
  {
   "cell_type": "markdown",
   "metadata": {},
   "source": [
    "#### Importing Libraries"
   ]
  },
  {
   "cell_type": "code",
   "execution_count": 2,
   "metadata": {},
   "outputs": [],
   "source": [
    "import pandas as pd\n",
    "import matplotlib.pyplot as plt\n",
    "import seaborn as sns\n"
   ]
  },
  {
   "cell_type": "markdown",
   "metadata": {},
   "source": [
    "### **3. Creating a Panel DataFrame**\n",
    "#### Sample Dataset\n",
    "\n",
    "- Let's create a more detailed DataFrame with multiple subjects and years."
   ]
  },
  {
   "cell_type": "code",
   "execution_count": 3,
   "metadata": {},
   "outputs": [],
   "source": [
    "# Sample data for multiple students over multiple years\n",
    "data = {\n",
    "    'Student': ['Alice', 'Alice', 'Alice', 'Bob', 'Bob', 'Bob', 'Charlie', 'Charlie', 'Charlie', 'Alice', 'Bob', 'Charlie'],\n",
    "    'Year': [2021, 2022, 2023, 2021, 2022, 2023, 2021, 2022, 2023, 2024, 2024, 2024],\n",
    "    'Score': [85, 90, 95, 80, 85, 88, 78, 82, 85, 92, 84, 89],\n",
    "    'Attendance': [90, 92, 95, 85, 88, 87, 80, 82, 81, 93, 90, 85]\n",
    "}\n",
    "\n",
    "panel_data = pd.DataFrame(data)\n"
   ]
  },
  {
   "cell_type": "markdown",
   "metadata": {},
   "source": [
    "### **4. Exploring the Panel Data**\n",
    "#### Viewing the Data\n",
    "\n",
    "- Examine the dataset with various functions.\n"
   ]
  },
  {
   "cell_type": "code",
   "execution_count": null,
   "metadata": {},
   "outputs": [],
   "source": [
    "# Displaying the entire dataset\n",
    "print(panel_data)"
   ]
  },
  {
   "cell_type": "code",
   "execution_count": null,
   "metadata": {},
   "outputs": [],
   "source": [
    "# Display the first few rows\n",
    "print(panel_data.head())"
   ]
  },
  {
   "cell_type": "code",
   "execution_count": null,
   "metadata": {},
   "outputs": [],
   "source": [
    "# Summary statistics for numerical columns\n",
    "print(panel_data.describe())"
   ]
  },
  {
   "cell_type": "code",
   "execution_count": null,
   "metadata": {},
   "outputs": [],
   "source": [
    "# Information about the DataFrame\n",
    "print(panel_data.info())"
   ]
  },
  {
   "cell_type": "markdown",
   "metadata": {},
   "source": [
    "### **5. Basic Operations on Panel Data**\n",
    "#### 5.1. Grouping and Aggregating Data\n",
    "- Calculate average scores and attendance by student."
   ]
  },
  {
   "cell_type": "code",
   "execution_count": null,
   "metadata": {},
   "outputs": [],
   "source": [
    "# Average scores and attendance per student\n",
    "average_scores = panel_data.groupby('Student').agg({'Score': 'mean', 'Attendance': 'mean'})\n",
    "print(average_scores)\n"
   ]
  },
  {
   "cell_type": "markdown",
   "metadata": {},
   "source": [
    "#### 5.2. Filtering Data\n",
    "- How to filter for a specific year or student."
   ]
  },
  {
   "cell_type": "code",
   "execution_count": null,
   "metadata": {},
   "outputs": [],
   "source": [
    "# Filtering data for 2024\n",
    "data_2024 = panel_data[panel_data['Year'] == 2024]\n",
    "print(data_2024)"
   ]
  },
  {
   "cell_type": "code",
   "execution_count": null,
   "metadata": {},
   "outputs": [],
   "source": [
    "# Filtering data for Alice\n",
    "alice_data = panel_data[panel_data['Student'] == 'Alice']\n",
    "print(alice_data)"
   ]
  },
  {
   "cell_type": "markdown",
   "metadata": {},
   "source": [
    "### 5.3. Pivoting Data\n",
    "- Create a pivot table for scores and attendance."
   ]
  },
  {
   "cell_type": "code",
   "execution_count": null,
   "metadata": {},
   "outputs": [],
   "source": [
    "# Pivot table for scores\n",
    "pivot_scores = panel_data.pivot(index='Year', columns='Student', values='Score')\n",
    "print(pivot_scores)"
   ]
  },
  {
   "cell_type": "code",
   "execution_count": null,
   "metadata": {},
   "outputs": [],
   "source": [
    "# Pivot table for attendance\n",
    "pivot_attendance = panel_data.pivot(index='Year', columns='Student', values='Attendance')\n",
    "print(pivot_attendance)"
   ]
  },
  {
   "cell_type": "markdown",
   "metadata": {},
   "source": [
    "#### 5.4. Additional Operations\n",
    "- Count the number of entries per student and year."
   ]
  },
  {
   "cell_type": "code",
   "execution_count": null,
   "metadata": {},
   "outputs": [],
   "source": [
    "# Counting entries per student\n",
    "entry_counts = panel_data['Student'].value_counts()\n",
    "print(entry_counts)"
   ]
  },
  {
   "cell_type": "code",
   "execution_count": null,
   "metadata": {},
   "outputs": [],
   "source": [
    "# Counting entries per year\n",
    "year_counts = panel_data['Year'].value_counts()\n",
    "print(year_counts)"
   ]
  },
  {
   "cell_type": "markdown",
   "metadata": {},
   "source": [
    "#### 5.5. Handling Missing Data\n",
    "- Introduce how to handle missing values."
   ]
  },
  {
   "cell_type": "code",
   "execution_count": null,
   "metadata": {},
   "outputs": [],
   "source": [
    "# Introducing a missing value for demonstration\n",
    "panel_data.loc[4, 'Score'] = None  # Introduce a missing value\n",
    "\n",
    "# Handling missing values by filling with the mean score\n",
    "panel_data['Score'].fillna(panel_data['Score'].mean(), inplace=True)\n",
    "print(panel_data)"
   ]
  },
  {
   "cell_type": "markdown",
   "metadata": {},
   "source": [
    "#### 5.6. Calculating Growth Rates\n",
    "- Calculate the growth rate of scores from year to year for each student."
   ]
  },
  {
   "cell_type": "code",
   "execution_count": null,
   "metadata": {},
   "outputs": [],
   "source": [
    "# Sorting data to ensure the correct order\n",
    "panel_data.sort_values(by=['Student', 'Year'], inplace=True)\n",
    "# Calculating the growth rate of scores\n",
    "panel_data['Score Growth'] = panel_data.groupby('Student')['Score'].pct_change() * 100\n",
    "print(panel_data)"
   ]
  },
  {
   "cell_type": "markdown",
   "metadata": {},
   "source": [
    "### **6. Visualizing Panel Data**\n",
    "#### Plotting Scores and Attendance Over Time\n",
    "- Visualize the changes for each student over the years."
   ]
  },
  {
   "cell_type": "code",
   "execution_count": null,
   "metadata": {},
   "outputs": [],
   "source": [
    "# Setting the style for the plots\n",
    "sns.set(style=\"whitegrid\")\n",
    "\n",
    "# Plotting scores\n",
    "plt.figure(figsize=(10, 5))\n",
    "for student in panel_data['Student'].unique():\n",
    "    subset = panel_data[panel_data['Student'] == student]\n",
    "    plt.plot(subset['Year'], subset['Score'], marker='o', label=student)\n",
    "\n",
    "plt.title('Students\\' Scores Over Years')\n",
    "plt.xlabel('Year')\n",
    "plt.ylabel('Score')\n",
    "plt.legend()\n",
    "plt.grid()\n",
    "plt.show()"
   ]
  },
  {
   "cell_type": "markdown",
   "metadata": {},
   "source": [
    "### Heatmap of Attendance\n",
    "- Create a heatmap to visualize attendance over years"
   ]
  },
  {
   "cell_type": "code",
   "execution_count": null,
   "metadata": {},
   "outputs": [],
   "source": [
    "# Creating a heatmap for attendance\n",
    "plt.figure(figsize=(8, 4))\n",
    "sns.heatmap(pivot_attendance, annot=True, cmap='YlGnBu', fmt=\".1f\")\n",
    "plt.title('Attendance Heatmap')\n",
    "plt.xlabel('Student')\n",
    "plt.ylabel('Year')\n",
    "plt.show()"
   ]
  },
  {
   "cell_type": "markdown",
   "metadata": {},
   "source": [
    "## **7. Case Study: Evaluating the Impact of a New Teaching Method on Student Performance**\n",
    "### **Background**\n",
    "In an educational setting, a new interactive teaching method was implemented to improve students' academic performance in mathematics. This method involved group discussions, hands-on activities, and the use of technology to enhance learning. The goal of this study is to assess whether this new method had a significant impact on student scores over a period of three years.\n",
    "\n",
    "### **Objective**\n",
    "To evaluate the effectiveness of the new teaching method by comparing students' mathematics scores before and after its implementation.\n",
    "\n",
    "### **Data Collection**\n",
    "Data was collected from three different classes of students over three academic years (2021, 2022, and 2023). The dataset includes the following variables:\n",
    "\n",
    "- **Student**: Name of the student.\n",
    "- **Year**: Academic year (2021, 2022, 2023).\n",
    "- **Score**: Mathematics score (out of 100).\n",
    "- **Method**: Indicates whether the student was taught using the new method (1 for yes, 0 for no)."
   ]
  },
  {
   "cell_type": "markdown",
   "metadata": {},
   "source": [
    "### **Sample Dataset**\n",
    "Here’s a sample of the dataset you might use:"
   ]
  },
  {
   "cell_type": "code",
   "execution_count": 21,
   "metadata": {},
   "outputs": [],
   "source": [
    "import pandas as pd\n",
    "\n",
    "# Sample dataset\n",
    "data = {\n",
    "    'Student': ['Alice', 'Alice', 'Alice', 'Bob', 'Bob', 'Bob', 'Charlie', 'Charlie', 'Charlie'],\n",
    "    'Year': [2021, 2022, 2023, 2021, 2022, 2023, 2021, 2022, 2023],\n",
    "    'Score': [75, 80, 90, 70, 75, 85, 68, 72, 78],\n",
    "    'Method': [0, 0, 1, 0, 0, 1, 0, 0, 1]  # 0: Traditional, 1: New Method\n",
    "}\n",
    "\n",
    "panel_data = pd.DataFrame(data)"
   ]
  },
  {
   "cell_type": "markdown",
   "metadata": {},
   "source": [
    "### **Analysis Approach**\n",
    "**1. Descriptive Statistics:** Start by examining the mean scores for each year and method."
   ]
  },
  {
   "cell_type": "code",
   "execution_count": null,
   "metadata": {},
   "outputs": [],
   "source": [
    "# Calculate mean scores by year and teaching method\n",
    "mean_scores = panel_data.groupby(['Year', 'Method'])['Score'].mean().reset_index()\n",
    "print(mean_scores)"
   ]
  },
  {
   "cell_type": "markdown",
   "metadata": {},
   "source": [
    "**2. Visualizing the Data:** Create plots to visualize changes in scores over the years for both teaching methods."
   ]
  },
  {
   "cell_type": "code",
   "execution_count": null,
   "metadata": {},
   "outputs": [],
   "source": [
    "import matplotlib.pyplot as plt\n",
    "import seaborn as sns\n",
    "\n",
    "plt.figure(figsize=(10, 5))\n",
    "sns.lineplot(data=panel_data, x='Year', y='Score', hue='Method', marker='o')\n",
    "plt.title('Student Scores by Teaching Method Over Years')\n",
    "plt.xlabel('Year')\n",
    "plt.ylabel('Average Score')\n",
    "plt.legend(['Traditional', 'New Method'])\n",
    "plt.grid()\n",
    "plt.show()"
   ]
  },
  {
   "cell_type": "markdown",
   "metadata": {},
   "source": [
    "**3. Statistical Testing:** \n",
    "Conduct a statistical test (e.g., t-test) to determine if the differences in scores between the two methods are statistically significant."
   ]
  },
  {
   "cell_type": "code",
   "execution_count": null,
   "metadata": {},
   "outputs": [],
   "source": [
    "from scipy import stats\n",
    "\n",
    "traditional_scores = panel_data[panel_data['Method'] == 0]['Score']\n",
    "new_method_scores = panel_data[panel_data['Method'] == 1]['Score']\n",
    "\n",
    "t_stat, p_value = stats.ttest_ind(traditional_scores, new_method_scores)\n",
    "print(f\"T-statistic: {t_stat}, P-value: {p_value}\")\n"
   ]
  },
  {
   "cell_type": "markdown",
   "metadata": {},
   "source": [
    "### **8. Conclusion on Using Panel Data**\n",
    "Panel data provides a powerful tool for analyzing how variables change over time across different subjects or entities. Unlike cross-sectional data, which captures a single snapshot in time, or time-series data, which focuses on one entity over time, panel data combines both, allowing for a more nuanced analysis. By tracking individuals, companies, or other entities across multiple periods, researchers and analysts can better understand trends, behaviors, and causal relationships. It helps in controlling for variables that change over time and offers more informative, efficient, and reliable inferences.\n",
    "\n",
    "#### **Benefits of Panel Data:**\n",
    "1. **Improved Accuracy:** By tracking multiple observations for each entity, panel data increases the ability to detect and measure dynamics that might not be visible in simple cross-sectional data.\n",
    "2. **Causal Inferences:** Panel data allows researchers to better identify cause-and-effect relationships because they can observe changes over time.\n",
    "3. **Handling of Unobserved Heterogeneity:** Panel data controls for individual differences that could otherwise bias results.\n",
    "### **Summary of Session:**\n",
    "In today's session, we explored the basics of panel data analysis using Python, focusing on both the theoretical and practical aspects. We learned how to handle panel data using the pandas library and applied various basic operations like descriptive statistics, data transformation, and visualization. We also examined a case study to evaluate the impact of a teaching method on student performance, providing real-world context to panel data's application.\n",
    "\n",
    "#### **Key Takeaways:**\n",
    "\n",
    "- Panel data combines time-series and cross-sectional data, allowing for richer analysis.\n",
    "- Operations like grouping, calculating statistics, and visualizing data trends are easy to implement with pandas.\n",
    "- Panel data can provide better insights for longitudinal studies and support decision-making processes across fields such as economics, education, and social sciences.\n",
    "\n",
    "With the case study, we also saw how data-driven approaches can lead to valuable insights in educational settings, allowing us to measure the effect of new teaching methods over time.\n",
    "\n",
    "I encourage you to experiment further with your own datasets and apply these techniques to deepen your understanding of panel data analysis."
   ]
  }
 ],
 "metadata": {
  "kernelspec": {
   "display_name": "Python 3",
   "language": "python",
   "name": "python3"
  },
  "language_info": {
   "codemirror_mode": {
    "name": "ipython",
    "version": 3
   },
   "file_extension": ".py",
   "mimetype": "text/x-python",
   "name": "python",
   "nbconvert_exporter": "python",
   "pygments_lexer": "ipython3",
   "version": "3.12.6"
  }
 },
 "nbformat": 4,
 "nbformat_minor": 2
}
