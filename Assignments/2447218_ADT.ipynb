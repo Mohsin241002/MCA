{
 "cells": [
  {
   "cell_type": "code",
   "execution_count": null,
   "metadata": {
    "vscode": {
     "languageId": "sql"
    }
   },
   "outputs": [],
   "source": [
    "CREATE DATABASE CollegeAdmissionSystem;\n",
    "USE CollegeAdmissionSystem;\n"
   ]
  },
  {
   "cell_type": "code",
   "execution_count": null,
   "metadata": {
    "vscode": {
     "languageId": "sql"
    }
   },
   "outputs": [],
   "source": [
    "-- Create Student Table\n",
    "CREATE TABLE Student (\n",
    "    student_id INT PRIMARY KEY,\n",
    "    name VARCHAR(100) NOT NULL,\n",
    "    date_of_birth DATE NOT NULL,\n",
    "    email VARCHAR(100) UNIQUE,\n",
    "    phone_number VARCHAR(15) CHECK (LENGTH(phone_number) = 10)\n",
    ");\n",
    "\n",
    "-- Create Course Table\n",
    "CREATE TABLE Course (\n",
    "    course_id INT PRIMARY KEY,\n",
    "    course_name VARCHAR(100) NOT NULL,\n",
    "    description TEXT,\n",
    "    credit_hours INT CHECK (credit_hours BETWEEN 1 AND 5)\n",
    ");\n",
    "\n",
    "-- Create Department Table\n",
    "CREATE TABLE Department (\n",
    "    dept_id INT PRIMARY KEY,\n",
    "    dept_name VARCHAR(100) UNIQUE,\n",
    "    office_location VARCHAR(100)\n",
    ");\n",
    "\n",
    "-- Create Faculty Table\n",
    "CREATE TABLE Faculty (\n",
    "    faculty_id INT PRIMARY KEY,\n",
    "    name VARCHAR(100) NOT NULL,\n",
    "    specialization VARCHAR(50),\n",
    "    email VARCHAR(100) UNIQUE,\n",
    "    phone_number VARCHAR(15) CHECK (LENGTH(phone_number) = 10)\n",
    ");\n",
    "\n",
    "-- Create Program Table\n",
    "CREATE TABLE Program (\n",
    "    program_id INT PRIMARY KEY,\n",
    "    program_name VARCHAR(100) NOT NULL,\n",
    "    program_type VARCHAR(50) DEFAULT 'Undergraduate'\n",
    ");\n",
    "\n",
    "-- Create Admission Table\n",
    "CREATE TABLE Admission (\n",
    "    admission_id INT PRIMARY KEY,\n",
    "    admission_date DATE NOT NULL,\n",
    "    status VARCHAR(20) DEFAULT 'Pending',\n",
    "    student_id INT,\n",
    "    FOREIGN KEY (student_id) REFERENCES Student(student_id) ON DELETE CASCADE\n",
    ");\n",
    "\n",
    "-- Create Course_Admission Table (many-to-many relationship between Admission and Course)\n",
    "CREATE TABLE Course_Admission (\n",
    "    admission_id INT,\n",
    "    course_id INT,\n",
    "    PRIMARY KEY (admission_id, course_id),\n",
    "    FOREIGN KEY (admission_id) REFERENCES Admission(admission_id),\n",
    "    FOREIGN KEY (course_id) REFERENCES Course(course_id)\n",
    ");\n"
   ]
  },
  {
   "cell_type": "code",
   "execution_count": null,
   "metadata": {
    "vscode": {
     "languageId": "sql"
    }
   },
   "outputs": [],
   "source": [
    "INSERT INTO Student (student_id, name, date_of_birth, email, phone_number)\n",
    "VALUES \n",
    "(1, 'Aarav Sharma', '2002-05-15', 'aarav.sharma@gmail.com', '9876543210'),\n",
    "(2, 'Saanvi Patel', '2003-07-22', 'saanvi.patel@yahoo.com', '9123456789'),\n",
    "(3, 'Vivaan Singh', '2001-11-08', 'vivaan.singh@hotmail.com', '9988776655'),\n",
    "(4, 'Isha Nair', '2002-01-29', 'isha.nair@outlook.com', '9871234567'),\n",
    "(5, 'Anika Rao', '2000-09-10', 'anika.rao@gmail.com', '9765432101');\n"
   ]
  },
  {
   "cell_type": "code",
   "execution_count": null,
   "metadata": {
    "vscode": {
     "languageId": "sql"
    }
   },
   "outputs": [],
   "source": [
    "INSERT INTO Course (course_id, course_name, description, credit_hours)\n",
    "VALUES\n",
    "(101, 'Data Structures', 'Study of data organization techniques', 4),\n",
    "(102, 'Database Management Systems', 'Introduction to relational databases', 3),\n",
    "(103, 'Operating Systems', 'Principles of OS design and management', 4),\n",
    "(104, 'Web Development', 'Basics of HTML, CSS, JavaScript', 3),\n",
    "(105, 'Software Engineering', 'Software development lifecycle and practices', 4);\n"
   ]
  },
  {
   "cell_type": "code",
   "execution_count": null,
   "metadata": {
    "vscode": {
     "languageId": "sql"
    }
   },
   "outputs": [],
   "source": [
    "INSERT INTO Department (dept_id, dept_name, office_location)\n",
    "VALUES\n",
    "(201, 'Computer Science', 'Building A - Room 101'),\n",
    "(202, 'Mechanical Engineering', 'Building B - Room 202'),\n",
    "(203, 'Electrical Engineering', 'Building C - Room 303'),\n",
    "(204, 'Civil Engineering', 'Building D - Room 404'),\n",
    "(205, 'Information Technology', 'Building A - Room 102');\n"
   ]
  }
 ],
 "metadata": {
  "kernelspec": {
   "display_name": "Python 3",
   "language": "python",
   "name": "python3"
  },
  "language_info": {
   "codemirror_mode": {
    "name": "ipython",
    "version": 3
   },
   "file_extension": ".py",
   "mimetype": "text/x-python",
   "name": "python",
   "nbconvert_exporter": "python",
   "pygments_lexer": "ipython3",
   "version": "3.12.4"
  }
 },
 "nbformat": 4,
 "nbformat_minor": 2
}
